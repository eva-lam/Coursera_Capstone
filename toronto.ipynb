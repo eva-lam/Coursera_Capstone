{
 "cells": [
  {
   "cell_type": "markdown",
   "metadata": {
    "collapsed": true
   },
   "source": [
    "# Segmenting and Clustering Neighborhoods in Toronto"
   ]
  },
  {
   "cell_type": "markdown",
   "metadata": {},
   "source": [
    "Step 1: Import all necessary libraries "
   ]
  },
  {
   "cell_type": "code",
   "execution_count": 2,
   "metadata": {},
   "outputs": [
    {
     "name": "stdout",
     "output_type": "stream",
     "text": [
      "Fetching package metadata .............\n",
      "Solving package specifications: .\n",
      "\n",
      "Package plan for installation in environment /opt/conda/envs/DSX-Python35:\n",
      "\n",
      "The following NEW packages will be INSTALLED:\n",
      "\n",
      "    altair:  2.2.2-py35_1 conda-forge\n",
      "    branca:  0.3.1-py_0   conda-forge\n",
      "    folium:  0.5.0-py_0   conda-forge\n",
      "    vincent: 0.4.4-py_1   conda-forge\n",
      "\n",
      "altair-2.2.2-p 100% |################################| Time: 0:00:00  54.43 MB/s\n",
      "branca-0.3.1-p 100% |################################| Time: 0:00:00  35.91 MB/s\n",
      "vincent-0.4.4- 100% |################################| Time: 0:00:00  39.02 MB/s\n",
      "folium-0.5.0-p 100% |################################| Time: 0:00:00  45.23 MB/s\n",
      "Libraries imported.\n"
     ]
    }
   ],
   "source": [
    "import numpy as np # library to handle data in a vectorized manner\n",
    "\n",
    "import pandas as pd # library for data analsysis\n",
    "pd.set_option('display.max_columns', None)\n",
    "pd.set_option('display.max_rows', None)\n",
    "\n",
    "import json # library to handle JSON files\n",
    "\n",
    "#!conda install -c conda-forge geopy --yes # uncomment this line if you haven't completed the Foursquare API lab\n",
    "from geopy.geocoders import Nominatim # convert an address into latitude and longitude values\n",
    "\n",
    "import requests # library to handle requests\n",
    "from pandas.io.json import json_normalize # tranform JSON file into a pandas dataframe\n",
    "\n",
    "# Matplotlib and associated plotting modules\n",
    "import matplotlib.cm as cm\n",
    "import matplotlib.colors as colors\n",
    "\n",
    "# import k-means from clustering stage\n",
    "from sklearn.cluster import KMeans\n",
    "\n",
    "!conda install -c conda-forge folium=0.5.0 --yes # uncomment this line if you haven't completed the Foursquare API lab\n",
    "import folium # map rendering library\n",
    "\n",
    "print('Libraries imported.')"
   ]
  },
  {
   "cell_type": "markdown",
   "metadata": {},
   "source": [
    "Step 2: Scrape data from webpage "
   ]
  },
  {
   "cell_type": "code",
   "execution_count": 97,
   "metadata": {},
   "outputs": [],
   "source": [
    "html_doc= requests.get('https://en.wikipedia.org/wiki/List_of_postal_codes_of_Canada:_M').text\n",
    "source = 'https://en.wikipedia.org/wiki/List_of_postal_codes_of_Canada:_M'"
   ]
  },
  {
   "cell_type": "code",
   "execution_count": 29,
   "metadata": {},
   "outputs": [],
   "source": [
    "from bs4 import BeautifulSoup \n",
    "soup = BeautifulSoup(html_doc, 'html.parser') \n",
    "\n",
    "#print(soup.prettify())"
   ]
  },
  {
   "cell_type": "code",
   "execution_count": 98,
   "metadata": {},
   "outputs": [],
   "source": [
    "PostalCodeList = []\n",
    "BoroughList = []\n",
    "NeighborhoodList = []\n",
    "tbody = soup.find('tbody')\n"
   ]
  },
  {
   "cell_type": "code",
   "execution_count": 99,
   "metadata": {},
   "outputs": [],
   "source": [
    "for index, value in enumerate(tbody.find_all('td')):\n",
    "    if (index%3 == 0):\n",
    "        PostalCodeList.append(value.text.strip())\n",
    "    elif(index%3 == 1):\n",
    "        BoroughList.append(value.text.strip())\n",
    "    else:\n",
    "        NeighborhoodList.append(value.text.strip())\n",
    "dataDic = { \"PostalCode\":PostalCodeList, \"Borough\":BoroughList, \"Neighborhood\": NeighborhoodList }"
   ]
  },
  {
   "cell_type": "code",
   "execution_count": 100,
   "metadata": {},
   "outputs": [
    {
     "name": "stdout",
     "output_type": "stream",
     "text": [
      "            Borough      Neighborhood PostalCode\n",
      "0      Not assigned      Not assigned        M1A\n",
      "1      Not assigned      Not assigned        M2A\n",
      "2        North York         Parkwoods        M3A\n",
      "3        North York  Victoria Village        M4A\n",
      "4  Downtown Toronto      Harbourfront        M5A\n"
     ]
    }
   ],
   "source": [
    "df = pd.DataFrame.from_dict(dataDic)\n",
    "print( df.head() )"
   ]
  },
  {
   "cell_type": "markdown",
   "metadata": {},
   "source": [
    "# Remove 'Not assigned' in Borough\n"
   ]
  },
  {
   "cell_type": "code",
   "execution_count": 101,
   "metadata": {},
   "outputs": [
    {
     "name": "stdout",
     "output_type": "stream",
     "text": [
      "            Borough      Neighborhood PostalCode\n",
      "0        North York         Parkwoods        M3A\n",
      "1        North York  Victoria Village        M4A\n",
      "2  Downtown Toronto      Harbourfront        M5A\n",
      "3  Downtown Toronto       Regent Park        M5A\n",
      "4        North York  Lawrence Heights        M6A\n"
     ]
    }
   ],
   "source": [
    "\n",
    "df = df[df.Borough != 'Not assigned']\n",
    "df.reset_index(drop=True, inplace=True)\n",
    "print( df.head() )\n"
   ]
  },
  {
   "cell_type": "markdown",
   "metadata": {},
   "source": [
    "The dataframe will consist of three columns: PostalCode, Borough, and Neighborhood"
   ]
  },
  {
   "cell_type": "code",
   "execution_count": 102,
   "metadata": {},
   "outputs": [
    {
     "data": {
      "text/html": [
       "<div>\n",
       "<style scoped>\n",
       "    .dataframe tbody tr th:only-of-type {\n",
       "        vertical-align: middle;\n",
       "    }\n",
       "\n",
       "    .dataframe tbody tr th {\n",
       "        vertical-align: top;\n",
       "    }\n",
       "\n",
       "    .dataframe thead th {\n",
       "        text-align: right;\n",
       "    }\n",
       "</style>\n",
       "<table border=\"1\" class=\"dataframe\">\n",
       "  <thead>\n",
       "    <tr style=\"text-align: right;\">\n",
       "      <th></th>\n",
       "      <th>Borough</th>\n",
       "      <th>Neighborhood</th>\n",
       "      <th>PostalCode</th>\n",
       "    </tr>\n",
       "  </thead>\n",
       "  <tbody>\n",
       "    <tr>\n",
       "      <th>0</th>\n",
       "      <td>North York</td>\n",
       "      <td>Parkwoods</td>\n",
       "      <td>M3A</td>\n",
       "    </tr>\n",
       "    <tr>\n",
       "      <th>1</th>\n",
       "      <td>North York</td>\n",
       "      <td>Victoria Village</td>\n",
       "      <td>M4A</td>\n",
       "    </tr>\n",
       "    <tr>\n",
       "      <th>2</th>\n",
       "      <td>Downtown Toronto</td>\n",
       "      <td>Harbourfront</td>\n",
       "      <td>M5A</td>\n",
       "    </tr>\n",
       "    <tr>\n",
       "      <th>3</th>\n",
       "      <td>Downtown Toronto</td>\n",
       "      <td>Regent Park</td>\n",
       "      <td>M5A</td>\n",
       "    </tr>\n",
       "    <tr>\n",
       "      <th>4</th>\n",
       "      <td>North York</td>\n",
       "      <td>Lawrence Heights</td>\n",
       "      <td>M6A</td>\n",
       "    </tr>\n",
       "  </tbody>\n",
       "</table>\n",
       "</div>"
      ],
      "text/plain": [
       "            Borough      Neighborhood PostalCode\n",
       "0        North York         Parkwoods        M3A\n",
       "1        North York  Victoria Village        M4A\n",
       "2  Downtown Toronto      Harbourfront        M5A\n",
       "3  Downtown Toronto       Regent Park        M5A\n",
       "4        North York  Lawrence Heights        M6A"
      ]
     },
     "execution_count": 102,
     "metadata": {},
     "output_type": "execute_result"
    }
   ],
   "source": [
    "df.head()"
   ]
  },
  {
   "cell_type": "markdown",
   "metadata": {},
   "source": [
    "Only process the cells that have an assigned borough. Ignore cells with a borough that is Not assigned."
   ]
  },
  {
   "cell_type": "markdown",
   "metadata": {},
   "source": [
    "## Step 3: Setting Neighbourhood same name as borough if not assigned"
   ]
  },
  {
   "cell_type": "code",
   "execution_count": 103,
   "metadata": {},
   "outputs": [],
   "source": [
    "aggregate_fun = {'PostalCode': 'first',\n",
    "                 \"Borough\": 'first', \n",
    "                 \"Neighborhood\": lambda col: ','.join(col)}\n",
    "df_new = df.groupby(df['PostalCode']).aggregate(aggregate_fun)\n",
    "\n",
    "df_new.reset_index(drop=True, inplace=True)\n",
    "#df_new\n"
   ]
  },
  {
   "cell_type": "code",
   "execution_count": 104,
   "metadata": {},
   "outputs": [],
   "source": [
    "for index, row in df_new.iterrows():\n",
    "    if (row.Neighborhood) == 'Not assigned':\n",
    "        row.Neighborhood = row.Borough"
   ]
  },
  {
   "cell_type": "code",
   "execution_count": 105,
   "metadata": {},
   "outputs": [
    {
     "name": "stdout",
     "output_type": "stream",
     "text": [
      "PostalCode               M7A\n",
      "Borough         Queen's Park\n",
      "Neighborhood    Queen's Park\n",
      "Name: 85, dtype: object\n"
     ]
    }
   ],
   "source": [
    "print(df_new.iloc[85])"
   ]
  },
  {
   "cell_type": "markdown",
   "metadata": {},
   "source": [
    "Postal code in Canada shape "
   ]
  },
  {
   "cell_type": "code",
   "execution_count": 106,
   "metadata": {},
   "outputs": [
    {
     "data": {
      "text/plain": [
       "(103, 3)"
      ]
     },
     "execution_count": 106,
     "metadata": {},
     "output_type": "execute_result"
    }
   ],
   "source": [
    "df_new.shape\n"
   ]
  },
  {
   "cell_type": "code",
   "execution_count": null,
   "metadata": {},
   "outputs": [],
   "source": []
  }
 ],
 "metadata": {
  "kernelspec": {
   "display_name": "Python 3.5",
   "language": "python",
   "name": "python3"
  },
  "language_info": {
   "codemirror_mode": {
    "name": "ipython",
    "version": 3
   },
   "file_extension": ".py",
   "mimetype": "text/x-python",
   "name": "python",
   "nbconvert_exporter": "python",
   "pygments_lexer": "ipython3",
   "version": "3.5.5"
  }
 },
 "nbformat": 4,
 "nbformat_minor": 1
}
